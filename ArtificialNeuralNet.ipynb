{
  "nbformat": 4,
  "nbformat_minor": 0,
  "metadata": {
    "colab": {
      "provenance": []
    },
    "kernelspec": {
      "name": "python3",
      "display_name": "Python 3"
    },
    "language_info": {
      "name": "python"
    }
  },
  "cells": [
    {
      "cell_type": "markdown",
      "source": [
        "Artifical Neural Network"
      ],
      "metadata": {
        "id": "_nAzv1sIxHh3"
      }
    },
    {
      "cell_type": "code",
      "source": [
        "## Importing the Libraries \n",
        "import numpy as np\n",
        "import pandas as pd\n",
        "import tensorflow as tf "
      ],
      "metadata": {
        "id": "4OfaWlN-xNNN"
      },
      "execution_count": null,
      "outputs": []
    },
    {
      "cell_type": "code",
      "source": [
        "tf.__version__"
      ],
      "metadata": {
        "colab": {
          "base_uri": "https://localhost:8080/",
          "height": 35
        },
        "id": "6ncQ5CE5xgbA",
        "outputId": "c47e0bdd-4d85-4fb5-bc0b-8034a51a0aaa"
      },
      "execution_count": null,
      "outputs": [
        {
          "output_type": "execute_result",
          "data": {
            "text/plain": [
              "'2.12.0'"
            ],
            "application/vnd.google.colaboratory.intrinsic+json": {
              "type": "string"
            }
          },
          "metadata": {},
          "execution_count": 2
        }
      ]
    },
    {
      "cell_type": "code",
      "source": [
        "## Data PreProcessing \n",
        "dataset = pd.read_excel('Folds5x2_pp.xlsx')\n",
        "X= dataset.iloc[:,:-1].values # Matrix of Features \n",
        "y= dataset.iloc[:,-1].values # Dependent Variable "
      ],
      "metadata": {
        "id": "8i6VPUvpxiyM"
      },
      "execution_count": null,
      "outputs": []
    },
    {
      "cell_type": "code",
      "source": [
        "print(X)\n",
        "print(y)"
      ],
      "metadata": {
        "colab": {
          "base_uri": "https://localhost:8080/"
        },
        "id": "e-jAQFFy24Yf",
        "outputId": "e3a886cb-4c0e-4ed3-f253-5444cf298223"
      },
      "execution_count": null,
      "outputs": [
        {
          "output_type": "stream",
          "name": "stdout",
          "text": [
            "[[  14.96   41.76 1024.07   73.17]\n",
            " [  25.18   62.96 1020.04   59.08]\n",
            " [   5.11   39.4  1012.16   92.14]\n",
            " ...\n",
            " [  31.32   74.33 1012.92   36.48]\n",
            " [  24.48   69.45 1013.86   62.39]\n",
            " [  21.6    62.52 1017.23   67.87]]\n",
            "[463.26 444.37 488.56 ... 429.57 435.74 453.28]\n"
          ]
        }
      ]
    },
    {
      "cell_type": "code",
      "source": [
        "# Splitting the dataset into the Training set and Test set  (psytic learn)\n",
        "from sklearn.model_selection import train_test_split\n",
        "X_train, X_test, y_train, y_test = train_test_split(X, y, test_size = 0.2, random_state = 0)"
      ],
      "metadata": {
        "id": "Y14gLbaj2-pG"
      },
      "execution_count": null,
      "outputs": []
    },
    {
      "cell_type": "markdown",
      "source": [
        "Part 2- Building the ANN "
      ],
      "metadata": {
        "id": "Zqv8yYc54MNm"
      }
    },
    {
      "cell_type": "code",
      "source": [
        "#Initializing the ANN \n",
        "ann = tf.keras.models.Sequential()"
      ],
      "metadata": {
        "id": "obRnyu3641mH"
      },
      "execution_count": null,
      "outputs": []
    },
    {
      "cell_type": "code",
      "source": [
        "# Adding the input layer and the first hidden layer\n",
        "ann.add(tf.keras.layers.Dense(units=6, activation='relu'))"
      ],
      "metadata": {
        "id": "IIahnLyV9YR3"
      },
      "execution_count": null,
      "outputs": []
    },
    {
      "cell_type": "code",
      "source": [
        "# Adding the second Hidden layer \n",
        "ann.add(tf.keras.layers.Dense(units=6, activation='relu'))"
      ],
      "metadata": {
        "id": "Gqw5v9Le-Gpx"
      },
      "execution_count": null,
      "outputs": []
    },
    {
      "cell_type": "code",
      "source": [
        "# Adding the output layer \n",
        "ann.add(tf.keras.layers.Dense(units=1))"
      ],
      "metadata": {
        "id": "UIFf8Dkp-18E"
      },
      "execution_count": null,
      "outputs": []
    },
    {
      "cell_type": "markdown",
      "source": [
        "Part 3- Training the ANN"
      ],
      "metadata": {
        "id": "ThdttFs5_x2i"
      }
    },
    {
      "cell_type": "code",
      "source": [
        "# Compiling the ANN \n",
        "ann.compile(optimizer = 'adam', loss = 'mean_squared_error')"
      ],
      "metadata": {
        "id": "x1hxtPNN_Iyp"
      },
      "execution_count": null,
      "outputs": []
    },
    {
      "cell_type": "code",
      "source": [
        "# Training the ANN model on the Training Set\n",
        "ann.fit(X_train, y_train, batch_size = 32, epochs = 100)"
      ],
      "metadata": {
        "colab": {
          "base_uri": "https://localhost:8080/"
        },
        "id": "x51jfxkl_-6s",
        "outputId": "347015bc-2077-4548-f892-71bdd1b74bd0"
      },
      "execution_count": null,
      "outputs": [
        {
          "output_type": "stream",
          "name": "stdout",
          "text": [
            "Epoch 1/100\n",
            "240/240 [==============================] - 2s 2ms/step - loss: 99735.8828\n",
            "Epoch 2/100\n",
            "240/240 [==============================] - 0s 2ms/step - loss: 122.5561\n",
            "Epoch 3/100\n",
            "240/240 [==============================] - 0s 2ms/step - loss: 110.1743\n",
            "Epoch 4/100\n",
            "240/240 [==============================] - 0s 2ms/step - loss: 108.1713\n",
            "Epoch 5/100\n",
            "240/240 [==============================] - 0s 2ms/step - loss: 106.0995\n",
            "Epoch 6/100\n",
            "240/240 [==============================] - 0s 2ms/step - loss: 104.0624\n",
            "Epoch 7/100\n",
            "240/240 [==============================] - 0s 2ms/step - loss: 102.2109\n",
            "Epoch 8/100\n",
            "240/240 [==============================] - 0s 2ms/step - loss: 100.3028\n",
            "Epoch 9/100\n",
            "240/240 [==============================] - 0s 2ms/step - loss: 98.2430\n",
            "Epoch 10/100\n",
            "240/240 [==============================] - 0s 2ms/step - loss: 96.2075\n",
            "Epoch 11/100\n",
            "240/240 [==============================] - 0s 2ms/step - loss: 93.8324\n",
            "Epoch 12/100\n",
            "240/240 [==============================] - 0s 2ms/step - loss: 91.3868\n",
            "Epoch 13/100\n",
            "240/240 [==============================] - 0s 2ms/step - loss: 88.7972\n",
            "Epoch 14/100\n",
            "240/240 [==============================] - 0s 2ms/step - loss: 86.0745\n",
            "Epoch 15/100\n",
            "240/240 [==============================] - 0s 2ms/step - loss: 83.1668\n",
            "Epoch 16/100\n",
            "240/240 [==============================] - 0s 2ms/step - loss: 80.1095\n",
            "Epoch 17/100\n",
            "240/240 [==============================] - 1s 2ms/step - loss: 77.0833\n",
            "Epoch 18/100\n",
            "240/240 [==============================] - 1s 2ms/step - loss: 74.0595\n",
            "Epoch 19/100\n",
            "240/240 [==============================] - 1s 2ms/step - loss: 70.7847\n",
            "Epoch 20/100\n",
            "240/240 [==============================] - 1s 2ms/step - loss: 67.4578\n",
            "Epoch 21/100\n",
            "240/240 [==============================] - 1s 3ms/step - loss: 64.4852\n",
            "Epoch 22/100\n",
            "240/240 [==============================] - 1s 2ms/step - loss: 61.5644\n",
            "Epoch 23/100\n",
            "240/240 [==============================] - 0s 2ms/step - loss: 58.6507\n",
            "Epoch 24/100\n",
            "240/240 [==============================] - 0s 2ms/step - loss: 56.1044\n",
            "Epoch 25/100\n",
            "240/240 [==============================] - 0s 2ms/step - loss: 53.1015\n",
            "Epoch 26/100\n",
            "240/240 [==============================] - 0s 2ms/step - loss: 50.6958\n",
            "Epoch 27/100\n",
            "240/240 [==============================] - 0s 2ms/step - loss: 48.4637\n",
            "Epoch 28/100\n",
            "240/240 [==============================] - 0s 2ms/step - loss: 46.2009\n",
            "Epoch 29/100\n",
            "240/240 [==============================] - 0s 2ms/step - loss: 44.4955\n",
            "Epoch 30/100\n",
            "240/240 [==============================] - 0s 2ms/step - loss: 42.6400\n",
            "Epoch 31/100\n",
            "240/240 [==============================] - 0s 2ms/step - loss: 40.4985\n",
            "Epoch 32/100\n",
            "240/240 [==============================] - 0s 2ms/step - loss: 38.9874\n",
            "Epoch 33/100\n",
            "240/240 [==============================] - 0s 2ms/step - loss: 37.3651\n",
            "Epoch 34/100\n",
            "240/240 [==============================] - 0s 2ms/step - loss: 35.5889\n",
            "Epoch 35/100\n",
            "240/240 [==============================] - 0s 2ms/step - loss: 34.5813\n",
            "Epoch 36/100\n",
            "240/240 [==============================] - 0s 2ms/step - loss: 33.3983\n",
            "Epoch 37/100\n",
            "240/240 [==============================] - 0s 2ms/step - loss: 32.1919\n",
            "Epoch 38/100\n",
            "240/240 [==============================] - 0s 2ms/step - loss: 32.0457\n",
            "Epoch 39/100\n",
            "240/240 [==============================] - 0s 2ms/step - loss: 30.6593\n",
            "Epoch 40/100\n",
            "240/240 [==============================] - 0s 2ms/step - loss: 29.3264\n",
            "Epoch 41/100\n",
            "240/240 [==============================] - 0s 2ms/step - loss: 29.1985\n",
            "Epoch 42/100\n",
            "240/240 [==============================] - 0s 2ms/step - loss: 28.5146\n",
            "Epoch 43/100\n",
            "240/240 [==============================] - 0s 2ms/step - loss: 28.5942\n",
            "Epoch 44/100\n",
            "240/240 [==============================] - 0s 2ms/step - loss: 27.7510\n",
            "Epoch 45/100\n",
            "240/240 [==============================] - 1s 3ms/step - loss: 27.5859\n",
            "Epoch 46/100\n",
            "240/240 [==============================] - 1s 3ms/step - loss: 27.1728\n",
            "Epoch 47/100\n",
            "240/240 [==============================] - 1s 3ms/step - loss: 26.7006\n",
            "Epoch 48/100\n",
            "240/240 [==============================] - 1s 3ms/step - loss: 26.7860\n",
            "Epoch 49/100\n",
            "240/240 [==============================] - 1s 2ms/step - loss: 27.2175\n",
            "Epoch 50/100\n",
            "240/240 [==============================] - 0s 2ms/step - loss: 26.1760\n",
            "Epoch 51/100\n",
            "240/240 [==============================] - 0s 2ms/step - loss: 26.9726\n",
            "Epoch 52/100\n",
            "240/240 [==============================] - 0s 2ms/step - loss: 26.0367\n",
            "Epoch 53/100\n",
            "240/240 [==============================] - 0s 2ms/step - loss: 25.8606\n",
            "Epoch 54/100\n",
            "240/240 [==============================] - 0s 2ms/step - loss: 25.3455\n",
            "Epoch 55/100\n",
            "240/240 [==============================] - 0s 2ms/step - loss: 25.5151\n",
            "Epoch 56/100\n",
            "240/240 [==============================] - 0s 2ms/step - loss: 25.3925\n",
            "Epoch 57/100\n",
            "240/240 [==============================] - 0s 2ms/step - loss: 25.6377\n",
            "Epoch 58/100\n",
            "240/240 [==============================] - 0s 2ms/step - loss: 25.4033\n",
            "Epoch 59/100\n",
            "240/240 [==============================] - 0s 2ms/step - loss: 25.2206\n",
            "Epoch 60/100\n",
            "240/240 [==============================] - 0s 2ms/step - loss: 25.7519\n",
            "Epoch 61/100\n",
            "240/240 [==============================] - 0s 2ms/step - loss: 25.1961\n",
            "Epoch 62/100\n",
            "240/240 [==============================] - 0s 2ms/step - loss: 25.8153\n",
            "Epoch 63/100\n",
            "240/240 [==============================] - 0s 2ms/step - loss: 24.8792\n",
            "Epoch 64/100\n",
            "240/240 [==============================] - 0s 2ms/step - loss: 24.4981\n",
            "Epoch 65/100\n",
            "240/240 [==============================] - 0s 2ms/step - loss: 25.1780\n",
            "Epoch 66/100\n",
            "240/240 [==============================] - 0s 2ms/step - loss: 26.0398\n",
            "Epoch 67/100\n",
            "240/240 [==============================] - 0s 2ms/step - loss: 26.3686\n",
            "Epoch 68/100\n",
            "240/240 [==============================] - 0s 2ms/step - loss: 24.8032\n",
            "Epoch 69/100\n",
            "240/240 [==============================] - 0s 2ms/step - loss: 25.2164\n",
            "Epoch 70/100\n",
            "240/240 [==============================] - 0s 2ms/step - loss: 25.1693\n",
            "Epoch 71/100\n",
            "240/240 [==============================] - 0s 2ms/step - loss: 24.8252\n",
            "Epoch 72/100\n",
            "240/240 [==============================] - 0s 2ms/step - loss: 25.0703\n",
            "Epoch 73/100\n",
            "240/240 [==============================] - 1s 3ms/step - loss: 25.3371\n",
            "Epoch 74/100\n",
            "240/240 [==============================] - 1s 3ms/step - loss: 25.3950\n",
            "Epoch 75/100\n",
            "240/240 [==============================] - 1s 3ms/step - loss: 24.7957\n",
            "Epoch 76/100\n",
            "240/240 [==============================] - 1s 3ms/step - loss: 24.5012\n",
            "Epoch 77/100\n",
            "240/240 [==============================] - 1s 2ms/step - loss: 24.7528\n",
            "Epoch 78/100\n",
            "240/240 [==============================] - 0s 2ms/step - loss: 25.7798\n",
            "Epoch 79/100\n",
            "240/240 [==============================] - 0s 2ms/step - loss: 24.3574\n",
            "Epoch 80/100\n",
            "240/240 [==============================] - 0s 2ms/step - loss: 24.5577\n",
            "Epoch 81/100\n",
            "240/240 [==============================] - 0s 2ms/step - loss: 24.9736\n",
            "Epoch 82/100\n",
            "240/240 [==============================] - 0s 2ms/step - loss: 24.4776\n",
            "Epoch 83/100\n",
            "240/240 [==============================] - 0s 2ms/step - loss: 24.9293\n",
            "Epoch 84/100\n",
            "240/240 [==============================] - 0s 2ms/step - loss: 25.2361\n",
            "Epoch 85/100\n",
            "240/240 [==============================] - 0s 2ms/step - loss: 25.2066\n",
            "Epoch 86/100\n",
            "240/240 [==============================] - 0s 2ms/step - loss: 24.4767\n",
            "Epoch 87/100\n",
            "240/240 [==============================] - 0s 2ms/step - loss: 24.8509\n",
            "Epoch 88/100\n",
            "240/240 [==============================] - 0s 2ms/step - loss: 24.7897\n",
            "Epoch 89/100\n",
            "240/240 [==============================] - 0s 2ms/step - loss: 24.5590\n",
            "Epoch 90/100\n",
            "240/240 [==============================] - 0s 2ms/step - loss: 24.4430\n",
            "Epoch 91/100\n",
            "240/240 [==============================] - 0s 2ms/step - loss: 24.8190\n",
            "Epoch 92/100\n",
            "240/240 [==============================] - 0s 2ms/step - loss: 24.2125\n",
            "Epoch 93/100\n",
            "240/240 [==============================] - 0s 2ms/step - loss: 24.9053\n",
            "Epoch 94/100\n",
            "240/240 [==============================] - 0s 2ms/step - loss: 24.5291\n",
            "Epoch 95/100\n",
            "240/240 [==============================] - 0s 2ms/step - loss: 24.6132\n",
            "Epoch 96/100\n",
            "240/240 [==============================] - 0s 2ms/step - loss: 25.2122\n",
            "Epoch 97/100\n",
            "240/240 [==============================] - 0s 2ms/step - loss: 24.7798\n",
            "Epoch 98/100\n",
            "240/240 [==============================] - 0s 2ms/step - loss: 25.1499\n",
            "Epoch 99/100\n",
            "240/240 [==============================] - 0s 2ms/step - loss: 25.1481\n",
            "Epoch 100/100\n",
            "240/240 [==============================] - 0s 2ms/step - loss: 24.3796\n"
          ]
        },
        {
          "output_type": "execute_result",
          "data": {
            "text/plain": [
              "<keras.callbacks.History at 0x7f3c367d8ee0>"
            ]
          },
          "metadata": {},
          "execution_count": 14
        }
      ]
    },
    {
      "cell_type": "code",
      "source": [
        "# Predicting the results of the Test Set \n",
        "y_pred = ann.predict(X_test)\n",
        "np.set_printoptions(precision=2)\n",
        "print(np.concatenate((y_pred.reshape(len(y_pred),1), y_test.reshape(len(y_test),1)),1))"
      ],
      "metadata": {
        "colab": {
          "base_uri": "https://localhost:8080/"
        },
        "id": "7M6U2F-ZAV91",
        "outputId": "2f601d50-f39d-4867-8060-9b45a1e90499"
      },
      "execution_count": null,
      "outputs": [
        {
          "output_type": "stream",
          "name": "stdout",
          "text": [
            "60/60 [==============================] - 0s 1ms/step\n",
            "[[433.88 431.23]\n",
            " [463.06 460.01]\n",
            " [467.62 461.14]\n",
            " ...\n",
            " [474.81 473.26]\n",
            " [439.45 438.  ]\n",
            " [459.96 463.28]]\n"
          ]
        }
      ]
    },
    {
      "cell_type": "markdown",
      "source": [],
      "metadata": {
        "id": "JLUdZ2_pGBRr"
      }
    }
  ]
}